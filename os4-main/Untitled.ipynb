{
 "cells": [
  {
   "cell_type": "code",
   "execution_count": 1,
   "id": "ca848d7e",
   "metadata": {},
   "outputs": [
    {
     "name": "stdout",
     "output_type": "stream",
     "text": [
      "1500000000\n",
      "1500000000\n",
      "1500000000\n",
      "1500000000\n",
      "1500000000\n",
      "1500000000\n",
      "1500000000\n",
      "1500000000\n",
      "14.3 s ± 18.4 ms per loop (mean ± std. dev. of 7 runs, 1 loop each)\n"
     ]
    }
   ],
   "source": [
    "def fnc(n):\n",
    "    b = 3\n",
    "    c = 3\n",
    "    s = 0\n",
    "    for j in range(1,n+1):\n",
    "        a = 0\n",
    "        for i in range(1,100000001):\n",
    "            a += b*2 + c - j\n",
    "        s+=a\n",
    "    print(s)\n",
    "    return s\n",
    "\n",
    "%timeit fnc(2)"
   ]
  },
  {
   "cell_type": "code",
   "execution_count": null,
   "id": "84946989",
   "metadata": {},
   "outputs": [],
   "source": []
  }
 ],
 "metadata": {
  "kernelspec": {
   "display_name": "Python 3 (ipykernel)",
   "language": "python",
   "name": "python3"
  },
  "language_info": {
   "codemirror_mode": {
    "name": "ipython",
    "version": 3
   },
   "file_extension": ".py",
   "mimetype": "text/x-python",
   "name": "python",
   "nbconvert_exporter": "python",
   "pygments_lexer": "ipython3",
   "version": "3.9.7"
  }
 },
 "nbformat": 4,
 "nbformat_minor": 5
}
